{
    "cells": [
        {
            "cell_type": "markdown",
            "metadata": {},
            "source": "# <b> Starting with simple Python programming. "
        },
        {
            "cell_type": "code",
            "execution_count": 11,
            "metadata": {},
            "outputs": [
                {
                    "name": "stdout",
                    "output_type": "stream",
                    "text": "Hello Python!\n"
                }
            ],
            "source": "# Here's an example of a simple Python string output \nprint (\"Hello Python!\")"
        },
        {
            "cell_type": "code",
            "execution_count": 12,
            "metadata": {},
            "outputs": [
                {
                    "name": "stdout",
                    "output_type": "stream",
                    "text": "3.7.9 (default, Aug 31 2020, 12:42:55) \n[GCC 7.3.0]\n"
                }
            ],
            "source": "# Here's checking for the Python version \nimport sys \nprint (sys.version)\n"
        },
        {
            "cell_type": "code",
            "execution_count": 13,
            "metadata": {},
            "outputs": [
                {
                    "name": "stdout",
                    "output_type": "stream",
                    "text": "Hello World!\n"
                }
            ],
            "source": "# How to use the comments : (nothing appears AFTER a # on a same line)\nprint (\"Hello World!\") # this will write \"Hello World\"\n# print ('Hi World!') this will write nothing "
        },
        {
            "cell_type": "code",
            "execution_count": 14,
            "metadata": {},
            "outputs": [
                {
                    "ename": "NameError",
                    "evalue": "name 'frint' is not defined",
                    "output_type": "error",
                    "traceback": [
                        "\u001b[0;31m---------------------------------------------------------------------------\u001b[0m",
                        "\u001b[0;31mNameError\u001b[0m                                 Traceback (most recent call last)",
                        "\u001b[0;32m<ipython-input-14-da4031de0e33>\u001b[0m in \u001b[0;36m<module>\u001b[0;34m\u001b[0m\n\u001b[1;32m      1\u001b[0m \u001b[0;31m# Here I make an error in purpose in the function 'print'\u001b[0m\u001b[0;34m\u001b[0m\u001b[0;34m\u001b[0m\u001b[0;34m\u001b[0m\u001b[0m\n\u001b[0;32m----> 2\u001b[0;31m \u001b[0mfrint\u001b[0m \u001b[0;34m(\u001b[0m\u001b[0;34m\"Hello World!\"\u001b[0m\u001b[0;34m)\u001b[0m\u001b[0;34m\u001b[0m\u001b[0;34m\u001b[0m\u001b[0m\n\u001b[0m",
                        "\u001b[0;31mNameError\u001b[0m: name 'frint' is not defined"
                    ]
                }
            ],
            "source": "# Here I make an error in purpose in the function 'print' \nfrint (\"Hello World!\")"
        },
        {
            "cell_type": "code",
            "execution_count": null,
            "metadata": {},
            "outputs": [],
            "source": "# Here I make a syntax error in purpose \nprint ('Hello World)"
        },
        {
            "cell_type": "code",
            "execution_count": null,
            "metadata": {},
            "outputs": [],
            "source": "# Print string and error to see the running order (nothing is printed after the error unless it is corrected)\n\nprint(\"This will be printed\")\nfrint(\"This will cause an error\")\nprint(\"This will NOT be printed\")\n"
        },
        {
            "cell_type": "code",
            "execution_count": 15,
            "metadata": {},
            "outputs": [
                {
                    "data": {
                        "text/plain": "sys.float_info(max=1.7976931348623157e+308, max_exp=1024, max_10_exp=308, min=2.2250738585072014e-308, min_exp=-1021, min_10_exp=-307, dig=15, mant_dig=53, epsilon=2.220446049250313e-16, radix=2, rounds=1)"
                    },
                    "execution_count": 15,
                    "metadata": {},
                    "output_type": "execute_result"
                }
            ],
            "source": "# This is to check the largest and the smallest number that can be represented with floats \nsys.float_info\n"
        },
        {
            "cell_type": "code",
            "execution_count": 16,
            "metadata": {},
            "outputs": [
                {
                    "data": {
                        "text/plain": "25.0"
                    },
                    "execution_count": 16,
                    "metadata": {},
                    "output_type": "execute_result"
                }
            ],
            "source": "# Converting an integer to a float \nfloat (25)"
        },
        {
            "cell_type": "code",
            "execution_count": 17,
            "metadata": {},
            "outputs": [
                {
                    "data": {
                        "text/plain": "2"
                    },
                    "execution_count": 17,
                    "metadata": {},
                    "output_type": "execute_result"
                }
            ],
            "source": "# Converting a float into an integer \nint(2.685)"
        },
        {
            "cell_type": "code",
            "execution_count": 18,
            "metadata": {},
            "outputs": [
                {
                    "data": {
                        "text/plain": "float"
                    },
                    "execution_count": 18,
                    "metadata": {},
                    "output_type": "execute_result"
                }
            ],
            "source": "# Converting an integer to a float and checking its type\ntype(float(2))"
        },
        {
            "cell_type": "code",
            "execution_count": 19,
            "metadata": {},
            "outputs": [
                {
                    "data": {
                        "text/plain": "'1'"
                    },
                    "execution_count": 19,
                    "metadata": {},
                    "output_type": "execute_result"
                }
            ],
            "source": "# Converting an integer to a string\nstr (1)"
        },
        {
            "cell_type": "code",
            "execution_count": 20,
            "metadata": {},
            "outputs": [
                {
                    "data": {
                        "text/plain": "1"
                    },
                    "execution_count": 20,
                    "metadata": {},
                    "output_type": "execute_result"
                }
            ],
            "source": "# Converting a string to an integer \nint ('1')"
        },
        {
            "cell_type": "code",
            "execution_count": 21,
            "metadata": {},
            "outputs": [
                {
                    "data": {
                        "text/plain": "bool"
                    },
                    "execution_count": 21,
                    "metadata": {},
                    "output_type": "execute_result"
                }
            ],
            "source": "# Type of False\ntype (False)"
        },
        {
            "cell_type": "code",
            "execution_count": 22,
            "metadata": {},
            "outputs": [
                {
                    "data": {
                        "text/plain": "bool"
                    },
                    "execution_count": 22,
                    "metadata": {},
                    "output_type": "execute_result"
                }
            ],
            "source": "# Type of False\ntype (bool(0))"
        },
        {
            "cell_type": "code",
            "execution_count": 23,
            "metadata": {},
            "outputs": [
                {
                    "data": {
                        "text/plain": "True"
                    },
                    "execution_count": 23,
                    "metadata": {},
                    "output_type": "execute_result"
                }
            ],
            "source": "# Converting 1 to boolean\nbool(1)\n"
        },
        {
            "cell_type": "code",
            "execution_count": 24,
            "metadata": {},
            "outputs": [
                {
                    "data": {
                        "text/plain": "0.0"
                    },
                    "execution_count": 24,
                    "metadata": {},
                    "output_type": "execute_result"
                }
            ],
            "source": "# Converting False to float \nfloat (False)"
        },
        {
            "cell_type": "code",
            "execution_count": 25,
            "metadata": {},
            "outputs": [
                {
                    "data": {
                        "text/plain": "3.0"
                    },
                    "execution_count": 25,
                    "metadata": {},
                    "output_type": "execute_result"
                }
            ],
            "source": "# Float division\n6/2"
        },
        {
            "cell_type": "code",
            "execution_count": 26,
            "metadata": {},
            "outputs": [
                {
                    "data": {
                        "text/plain": "3"
                    },
                    "execution_count": 26,
                    "metadata": {},
                    "output_type": "execute_result"
                }
            ],
            "source": "# Itneger division \n6//2"
        },
        {
            "cell_type": "code",
            "execution_count": 27,
            "metadata": {},
            "outputs": [],
            "source": "# Adding and storing values to variables \nx= 10+5+5+30"
        },
        {
            "cell_type": "code",
            "execution_count": 28,
            "metadata": {},
            "outputs": [
                {
                    "data": {
                        "text/plain": "50"
                    },
                    "execution_count": 28,
                    "metadata": {},
                    "output_type": "execute_result"
                }
            ],
            "source": "# To check the value in a Notebook, we have to put a variable to another line \nx"
        },
        {
            "cell_type": "code",
            "execution_count": 29,
            "metadata": {},
            "outputs": [
                {
                    "data": {
                        "text/plain": "10.0"
                    },
                    "execution_count": 29,
                    "metadata": {},
                    "output_type": "execute_result"
                }
            ],
            "source": "y=x/5\ny"
        },
        {
            "cell_type": "code",
            "execution_count": 30,
            "metadata": {},
            "outputs": [
                {
                    "data": {
                        "text/plain": "50.0"
                    },
                    "execution_count": 30,
                    "metadata": {},
                    "output_type": "execute_result"
                }
            ],
            "source": "y=y*5\ny"
        },
        {
            "cell_type": "code",
            "execution_count": 31,
            "metadata": {},
            "outputs": [
                {
                    "data": {
                        "text/plain": "60"
                    },
                    "execution_count": 31,
                    "metadata": {},
                    "output_type": "execute_result"
                }
            ],
            "source": "total_min=30+20+10\ntotal_min\n"
        },
        {
            "cell_type": "code",
            "execution_count": 32,
            "metadata": {},
            "outputs": [
                {
                    "data": {
                        "text/plain": "1.0"
                    },
                    "execution_count": 32,
                    "metadata": {},
                    "output_type": "execute_result"
                }
            ],
            "source": "total_hours=(30+20+10)/60\ntotal_hours"
        },
        {
            "cell_type": "code",
            "execution_count": 33,
            "metadata": {},
            "outputs": [
                {
                    "data": {
                        "text/plain": "'I am Happy'"
                    },
                    "execution_count": 33,
                    "metadata": {},
                    "output_type": "execute_result"
                }
            ],
            "source": "# Single quotation mark to define a string\n'I am Happy'"
        },
        {
            "cell_type": "code",
            "execution_count": 34,
            "metadata": {},
            "outputs": [
                {
                    "data": {
                        "text/plain": "'I am Happy'"
                    },
                    "execution_count": 34,
                    "metadata": {},
                    "output_type": "execute_result"
                }
            ],
            "source": "# Double quotation mark to define a string\n\"I am Happy\""
        },
        {
            "cell_type": "code",
            "execution_count": 35,
            "metadata": {},
            "outputs": [
                {
                    "name": "stdout",
                    "output_type": "stream",
                    "text": "Hlo\nHl\nl\n"
                },
                {
                    "data": {
                        "text/plain": "'o'"
                    },
                    "execution_count": 35,
                    "metadata": {},
                    "output_type": "execute_result"
                }
            ],
            "source": "# Stride, Slicing, Indexing\nM = \"Hello\"\nprint (M[::2])\nprint (M[0:4:2])\nprint (M[2:4:2])\nM[4]"
        },
        {
            "cell_type": "code",
            "execution_count": 36,
            "metadata": {},
            "outputs": [
                {
                    "name": "stdout",
                    "output_type": "stream",
                    "text": "He\n"
                }
            ],
            "source": "# Slicing\nprint (M[0:2]) \n"
        },
        {
            "cell_type": "code",
            "execution_count": 37,
            "metadata": {},
            "outputs": [
                {
                    "data": {
                        "text/plain": "'He is intelligent and great'"
                    },
                    "execution_count": 37,
                    "metadata": {},
                    "output_type": "execute_result"
                }
            ],
            "source": "# Replacing and concatenating\nA = 'Hello'\nB = (A.replace(\"llo\", \" is intelligent\"))+\" and great\"\nB"
        },
        {
            "cell_type": "code",
            "execution_count": 38,
            "metadata": {},
            "outputs": [
                {
                    "data": {
                        "text/plain": "5"
                    },
                    "execution_count": 38,
                    "metadata": {},
                    "output_type": "execute_result"
                }
            ],
            "source": "# To define a length\nlen (\"Hello\")"
        },
        {
            "cell_type": "code",
            "execution_count": 39,
            "metadata": {},
            "outputs": [
                {
                    "name": "stdout",
                    "output_type": "stream",
                    "text": "\\\n\\\n\\ \n"
                }
            ],
            "source": "print(\"\\\\\")\nprint('\\\\')\nprint(r\"\\ \")"
        },
        {
            "cell_type": "code",
            "execution_count": 40,
            "metadata": {},
            "outputs": [
                {
                    "name": "stdout",
                    "output_type": "stream",
                    "text": "This work \n is easy\nThis work \t is easy\nThis work \\ is easy\nThis work \\ is easy\n"
                }
            ],
            "source": "# Escape sequence\nprint (\"This work \\n is easy\")\nprint (\"This work \\t is easy\")\nprint (\"This work \\\\ is easy\")\nprint (r\"This work \\ is easy\")"
        },
        {
            "cell_type": "code",
            "execution_count": 41,
            "metadata": {},
            "outputs": [
                {
                    "name": "stdout",
                    "output_type": "stream",
                    "text": "Before upper case: This work is easy\nAfter upper case: THIS WORK IS EASY\n"
                }
            ],
            "source": "# Strings in upper case\nA= \"This work is easy\"\nprint (\"Before upper case:\", A)\nB=A.upper()\nprint (\"After upper case:\",B)"
        },
        {
            "cell_type": "code",
            "execution_count": 42,
            "metadata": {},
            "outputs": [
                {
                    "data": {
                        "text/plain": "6"
                    },
                    "execution_count": 42,
                    "metadata": {},
                    "output_type": "execute_result"
                }
            ],
            "source": "# Find method \nA = \"This work is easy\"\nA.find (\"or\")"
        },
        {
            "cell_type": "code",
            "execution_count": 43,
            "metadata": {},
            "outputs": [
                {
                    "data": {
                        "text/plain": "-1"
                    },
                    "execution_count": 43,
                    "metadata": {},
                    "output_type": "execute_result"
                }
            ],
            "source": "# Find method when cannot find a substring in a string \nA = \"This work is easy\"\nA.find (\"ra\")"
        },
        {
            "cell_type": "code",
            "execution_count": 44,
            "metadata": {},
            "outputs": [
                {
                    "data": {
                        "text/plain": "('hi', 10, 2.1)"
                    },
                    "execution_count": 44,
                    "metadata": {},
                    "output_type": "execute_result"
                }
            ],
            "source": "# Creating a tuple \nfirsttuple = (\"hi\",10,2.1)\nfirsttuple"
        },
        {
            "cell_type": "code",
            "execution_count": 45,
            "metadata": {},
            "outputs": [
                {
                    "data": {
                        "text/plain": "2.1"
                    },
                    "execution_count": 45,
                    "metadata": {},
                    "output_type": "execute_result"
                }
            ],
            "source": "# Indexing \nfirsttuple[2]\n"
        },
        {
            "cell_type": "code",
            "execution_count": 46,
            "metadata": {},
            "outputs": [
                {
                    "name": "stdout",
                    "output_type": "stream",
                    "text": "2.1\n<class 'str'>\n<class 'int'>\n<class 'float'>\n"
                }
            ],
            "source": "# Printing a variable and a type of a tuple with negative indexing\nprint(firsttuple[2])\nprint(type(firsttuple[-3]))\nprint(type(firsttuple[-2]))\nprint(type(firsttuple[-1]))"
        },
        {
            "cell_type": "code",
            "execution_count": 47,
            "metadata": {},
            "outputs": [
                {
                    "data": {
                        "text/plain": "('hi', 10, 2.1, 'be', 2.222, 100, 'loved')"
                    },
                    "execution_count": 47,
                    "metadata": {},
                    "output_type": "execute_result"
                }
            ],
            "source": "# Concatenating several tuples \nsecondtuple=firsttuple+(\"be\", 2.222, 100, 'loved')\nsecondtuple\n"
        },
        {
            "cell_type": "code",
            "execution_count": 48,
            "metadata": {},
            "outputs": [
                {
                    "data": {
                        "text/plain": "(10, 2.1, 2.222, 100)"
                    },
                    "execution_count": 48,
                    "metadata": {},
                    "output_type": "execute_result"
                }
            ],
            "source": "# Slicing tuples \nsecondtuple [1:3]+ secondtuple [4:6]\n"
        },
        {
            "cell_type": "code",
            "execution_count": 49,
            "metadata": {
                "scrolled": true
            },
            "outputs": [
                {
                    "data": {
                        "text/plain": "[0, 0.01, 0.1, 1.484, 2.25, 10]"
                    },
                    "execution_count": 49,
                    "metadata": {},
                    "output_type": "execute_result"
                }
            ],
            "source": "# Ratings\nnewtuple = (10,0,2.25, 1.484,0.01,0.1)\nrating =sorted (newtuple)\nrating"
        },
        {
            "cell_type": "code",
            "execution_count": 50,
            "metadata": {},
            "outputs": [
                {
                    "name": "stdout",
                    "output_type": "stream",
                    "text": "beloved\n"
                }
            ],
            "source": "# Slicing tuples \nprint(secondtuple[3]+ secondtuple[6])"
        },
        {
            "cell_type": "code",
            "execution_count": 51,
            "metadata": {},
            "outputs": [
                {
                    "name": "stdout",
                    "output_type": "stream",
                    "text": "('great', 2.254)\ngreat\n"
                }
            ],
            "source": "# Nesting \nnestedtuple = (1,('great',2.254), \"nice\", (1,2.5))\nprint (nestedtuple[1])\nprint (nestedtuple[1][0])"
        },
        {
            "cell_type": "code",
            "execution_count": 52,
            "metadata": {},
            "outputs": [
                {
                    "data": {
                        "text/plain": "list"
                    },
                    "execution_count": 52,
                    "metadata": {},
                    "output_type": "execute_result"
                }
            ],
            "source": "type([1,'great day'])\n"
        },
        {
            "cell_type": "code",
            "execution_count": 53,
            "metadata": {},
            "outputs": [
                {
                    "data": {
                        "text/plain": "tuple"
                    },
                    "execution_count": 53,
                    "metadata": {},
                    "output_type": "execute_result"
                }
            ],
            "source": "type (('1','2,2'))"
        },
        {
            "cell_type": "code",
            "execution_count": 54,
            "metadata": {},
            "outputs": [
                {
                    "data": {
                        "text/plain": "str"
                    },
                    "execution_count": 54,
                    "metadata": {},
                    "output_type": "execute_result"
                }
            ],
            "source": "type ('try, 21')\n"
        },
        {
            "cell_type": "code",
            "execution_count": 55,
            "metadata": {},
            "outputs": [
                {
                    "data": {
                        "text/plain": "set"
                    },
                    "execution_count": 55,
                    "metadata": {},
                    "output_type": "execute_result"
                }
            ],
            "source": "type ({'e','2','2'})\n"
        },
        {
            "cell_type": "code",
            "execution_count": 56,
            "metadata": {},
            "outputs": [
                {
                    "data": {
                        "text/plain": "[1, 256, 'day', 'goal', 'er', '2,4', '8', '7', ',', '3']"
                    },
                    "execution_count": 56,
                    "metadata": {},
                    "output_type": "execute_result"
                }
            ],
            "source": "# Extending the list by \"append\" and \"extend\" \nL=[1,256,\"day\",\"goal\",\"er\"]\nL.append('2,4')\nL\nL.extend('87,3')\nL"
        },
        {
            "cell_type": "code",
            "execution_count": 57,
            "metadata": {},
            "outputs": [
                {
                    "data": {
                        "text/plain": "[1, 256, 'day', 'goal', 'er', 'h', 'e', 'y', '3']"
                    },
                    "execution_count": 57,
                    "metadata": {},
                    "output_type": "execute_result"
                }
            ],
            "source": "# Changing element based on an index \nL[5:9]='hey'\nL\n"
        },
        {
            "cell_type": "code",
            "execution_count": 58,
            "metadata": {},
            "outputs": [
                {
                    "data": {
                        "text/plain": "[1, 256, 'day', 'goal', 'er', 'hey', 'e', 'y', '3']"
                    },
                    "execution_count": 58,
                    "metadata": {},
                    "output_type": "execute_result"
                }
            ],
            "source": "# Changing element based on an index \nL[5]='hey'\nL"
        },
        {
            "cell_type": "code",
            "execution_count": 59,
            "metadata": {},
            "outputs": [],
            "source": "# Deleting\nL=[1,256,\"day\",\"goal time\",\"er\"]\ndel(L[4])\n"
        },
        {
            "cell_type": "code",
            "execution_count": 60,
            "metadata": {},
            "outputs": [
                {
                    "data": {
                        "text/plain": "['goal', 'time']"
                    },
                    "execution_count": 60,
                    "metadata": {},
                    "output_type": "execute_result"
                }
            ],
            "source": "#Splitting by space\n\"goal time\".split()"
        },
        {
            "cell_type": "code",
            "execution_count": 61,
            "metadata": {},
            "outputs": [
                {
                    "data": {
                        "text/plain": "['goal time']"
                    },
                    "execution_count": 61,
                    "metadata": {},
                    "output_type": "execute_result"
                }
            ],
            "source": "#Splitting by coma\n\"goal time\".split(',')"
        },
        {
            "cell_type": "code",
            "execution_count": 62,
            "metadata": {},
            "outputs": [
                {
                    "name": "stdout",
                    "output_type": "stream",
                    "text": "[1, 256, 'day', 'goal time', 'er']\n[1, 256, 'day', 'goal time', 'er']\n"
                },
                {
                    "data": {
                        "text/plain": "[0, 256, 'day', 'goal time', 'er']"
                    },
                    "execution_count": 62,
                    "metadata": {},
                    "output_type": "execute_result"
                }
            ],
            "source": "# Copying (two change if one changes) \nL=[1,256,\"day\",\"goal time\",\"er\"]\nA=L\nprint (L)\nprint (A)\nL[0]=0\nA"
        },
        {
            "cell_type": "code",
            "execution_count": 63,
            "metadata": {},
            "outputs": [
                {
                    "name": "stdout",
                    "output_type": "stream",
                    "text": "[1, 256, 'day', 'goal time', 'er']\n[1, 256, 'day', 'goal time', 'er']\n"
                },
                {
                    "data": {
                        "text/plain": "[1, 256, 'day', 'goal time', 'er']"
                    },
                    "execution_count": 63,
                    "metadata": {},
                    "output_type": "execute_result"
                }
            ],
            "source": "# Cloning (one doesn't affect another)\nL=[1,256,\"day\",\"goal time\",\"er\"]\nA=L[:]\nprint (L)\nprint (A)\nL[0]=0\nA"
        },
        {
            "cell_type": "markdown",
            "metadata": {},
            "source": "An empty dictionary without any items is written with just two curly braces, like this \"{}. Each key is separated from its value by a colon \":\". Commas separate the items, and the whole dictionary is enclosed in curly braces. Like a list, a dictionary holds a sequence of elements. Each element is represented by a key and its corresponding value. Dictionaries are created with two curly braces containing keys and values separated by a colon. For every key, there can only be one single value, however, multiple keys can hold the same value. Keys can only be strings, numbers, or tuples, but values can be any data type.    "
        },
        {
            "cell_type": "code",
            "execution_count": 64,
            "metadata": {},
            "outputs": [
                {
                    "ename": "SyntaxError",
                    "evalue": "invalid syntax (<ipython-input-64-a4877639dd6f>, line 3)",
                    "output_type": "error",
                    "traceback": [
                        "\u001b[0;36m  File \u001b[0;32m\"<ipython-input-64-a4877639dd6f>\"\u001b[0;36m, line \u001b[0;32m3\u001b[0m\n\u001b[0;31m    Dictionary.\u001b[0m\n\u001b[0m               ^\u001b[0m\n\u001b[0;31mSyntaxError\u001b[0m\u001b[0;31m:\u001b[0m invalid syntax\n"
                    ]
                }
            ],
            "source": "# Dictionary with curly braces.  \nDictionary = {\"key1\": 1, \"key2\": \"2\", \"key3\": [3, 3, 3], \"key4\": (4, 4, 4), ('key5'): 5, (0, 1): 6}\nDictionary."
        },
        {
            "cell_type": "code",
            "execution_count": null,
            "metadata": {},
            "outputs": [],
            "source": "# Getting values and keys out of a dictionary \nDictionary = {\"key1\": 1, \"key2\": \"2\", \"key3\": [3, 3, 3], \"key4\": (4, 4, 4), ('key5'): 5, (0, 1): 6}\nprint (Dictionary.keys())\nDictionary.values()\n\n"
        },
        {
            "cell_type": "markdown",
            "metadata": {},
            "source": "A set is a unique collection of objects in Python. You can denote a set with a curly bracket {}. Python will automatically remove duplicate items."
        },
        {
            "cell_type": "code",
            "execution_count": null,
            "metadata": {},
            "outputs": [],
            "source": "# Creating a set \nset = {'day', 'night', \"256\",1,0}\nset "
        },
        {
            "cell_type": "code",
            "execution_count": null,
            "metadata": {},
            "outputs": [],
            "source": "# Converting a list to as set \nlist= [1,'56',\"summer\",\"winter\", \"holiday\"]\nset1=set(list)\nset1"
        },
        {
            "cell_type": "code",
            "execution_count": null,
            "metadata": {},
            "outputs": [],
            "source": "# Adding an element to a set !!!! Only using \"add\" (\"append\" is for lists)\n# Removing an element from a set !!!! Only using \"remove\" (\"del\" is for lists)\nset1.add (\"sleep\")\nprint (set1)\nset1.remove (\"summer\")\nset1"
        },
        {
            "cell_type": "code",
            "execution_count": null,
            "metadata": {},
            "outputs": [],
            "source": "# Checking for elements in a set (case sensitive!!)\n\"Holiday\" in set1"
        },
        {
            "cell_type": "code",
            "execution_count": null,
            "metadata": {},
            "outputs": [],
            "source": "# Checking differences between sets \nA={1,2,3,4,5,6}\nB={4,5,6,7,8,9}\nprint(A&B) # Finding the similar elements by \"ampersand\" \nprint(A.intersection(B)) # Finding the similar elements by \"intersection\""
        },
        {
            "cell_type": "code",
            "execution_count": null,
            "metadata": {},
            "outputs": [],
            "source": "# Finding the difference in only one set and not the second one \nprint(A.difference(B))\nB.difference(A)"
        },
        {
            "cell_type": "code",
            "execution_count": null,
            "metadata": {
                "scrolled": true
            },
            "outputs": [],
            "source": "# Union of two sets without duplicates\nA.union(B)"
        },
        {
            "cell_type": "code",
            "execution_count": null,
            "metadata": {},
            "outputs": [],
            "source": "# Checking for the same mathematical result in two sets and comparing \nA = [1, 2, 2, 1]\nB = set([1, 2, 2, 1])\nprint('does sum (A) = sum (B)', sum(A))\nprint('does sum (B) = sum (A)', sum(B))"
        },
        {
            "cell_type": "code",
            "execution_count": null,
            "metadata": {},
            "outputs": [],
            "source": "# Conditions and branching (use floats with a \"dot\" not a \"comma\"!! and in \"print\" always use \"quotation mark\")\nrating = 8.5\nif rating > 8:\n    print (\"It is greater than 8\")\n    \n"
        },
        {
            "cell_type": "code",
            "execution_count": null,
            "metadata": {},
            "outputs": [],
            "source": "rating = 8.5\nif rating > 8:\n    print ('this album is amazing')\nelif rating <= 8:\n        print('this album is ok')"
        },
        {
            "cell_type": "code",
            "execution_count": null,
            "metadata": {},
            "outputs": [],
            "source": "album = 1992\nif (album >= 1991) or (album <= 1993):\n    print ('This album is between 1991 and 1993')\n    print ('Year 1992')"
        },
        {
            "cell_type": "code",
            "execution_count": null,
            "metadata": {},
            "outputs": [],
            "source": "album=1985\nif (album >= 1991) and (album <= 1993):\n    print ('This album is between 1991 and 1993')\n    print (album)\nelif (album >= 1980):\n    print ('This album is after 1980')\n    print (album)\nelse :\n    print ('This album is before 1980')\n    print (album)"
        },
        {
            "cell_type": "code",
            "execution_count": null,
            "metadata": {},
            "outputs": [],
            "source": "# For Loops and While Loops\n# The for loop is used for a controlled flow of repetition\n#The while loop exists as a tool for repeated execution based on a condition, until a certain condition is met\n\nrange (-5,5)\nfor i in range(-5,5)  :\n    print(i)\n"
        },
        {
            "cell_type": "code",
            "execution_count": null,
            "metadata": {},
            "outputs": [],
            "source": "Genres = [ 'rock', 'R&B', 'Soundtrack', 'R&B', 'soul', 'pop']\nfor i in enumerate (Genres):\n    print (i)"
        },
        {
            "cell_type": "code",
            "execution_count": null,
            "metadata": {},
            "outputs": [],
            "source": "Genres = [ 'rock', 'R&B', 'Soundtrack', 'R&B', 'soul', 'pop']\nfor i, music in enumerate (Genres):\n    print (i, music)"
        },
        {
            "cell_type": "code",
            "execution_count": null,
            "metadata": {},
            "outputs": [],
            "source": "PlayListRatings = [10, 9.5, 10, 8, 7.5, 5, 10, 10]\ni=1\nrate=PlayListRatings[0]\nwhile (rate >=6):\n    print (rate)\n    rate=PlayListRatings[i]\n    i=i+1\n  "
        },
        {
            "cell_type": "code",
            "execution_count": null,
            "metadata": {},
            "outputs": [],
            "source": "squares = ['orange', 'orange', 'purple', 'blue ', 'orange']\nnew_squares = []\ni=0\nwhile (squares[i] == \"orange\"):\n    new_squares.append(squares[i])\n    i=i+1\n    print (new_squares)"
        },
        {
            "cell_type": "code",
            "execution_count": null,
            "metadata": {},
            "outputs": [],
            "source": "dates = [1982, 1980, 1973, 2000]\n\ni = 0\nyear = 0\n\nwhile(year != 1973):\n    year = dates[i]\n    i = i + 1\n    print(year)"
        },
        {
            "cell_type": "code",
            "execution_count": null,
            "metadata": {},
            "outputs": [],
            "source": "# Functions \nrating = [3, 2, 10, 0]\nnew_rating = sorted (rating)\nnew_rating"
        },
        {
            "cell_type": "code",
            "execution_count": null,
            "metadata": {},
            "outputs": [],
            "source": "rating = [3, 2, 10, 0]\nrating.sort()\nrating"
        },
        {
            "cell_type": "code",
            "execution_count": null,
            "metadata": {},
            "outputs": [],
            "source": "# Functions\ndef mult(a,b):\n    c=a*b\n    print (\"This will be printed\")\n    return (c)\n    print (\"This will not be printed\")\n\nmult(2,3)"
        },
        {
            "cell_type": "code",
            "execution_count": null,
            "metadata": {},
            "outputs": [],
            "source": "# Function Definition with local variable\n\ndef square(a):\n    \n    # Local variable b\n    b = 1\n    c = a * a + b\n    print(a, \"multiply by 3 and add 1 equals\", c) \n    return(c)\n\na = 3\n# Makes function call and return function a y\ny = square(a)\ny"
        },
        {
            "cell_type": "code",
            "execution_count": null,
            "metadata": {},
            "outputs": [],
            "source": "# Function Definition with global variable\nsquare(a)"
        },
        {
            "cell_type": "code",
            "execution_count": null,
            "metadata": {},
            "outputs": [],
            "source": "# Build-in function \n\nlisting = [1, 5, 3, 11] \nprint(listing)\nlen (listing)"
        },
        {
            "cell_type": "code",
            "execution_count": null,
            "metadata": {},
            "outputs": [],
            "source": "listing = [1, 5, 3, 11] \nprint(listing)\nsum (listing)"
        },
        {
            "cell_type": "code",
            "execution_count": null,
            "metadata": {},
            "outputs": [],
            "source": "def type_album (singer, song, year):\n    print (singer, song, year)\n    if year >= 1990:\n        return \"Great\"\n    elif year <= 1979:\n        return \"Too old\"\n    else :\n        return \"80's\"\n    \nx = type_album(\"Bryan Adams,\", \"Robin Hood:\", 1991)\nprint (x)"
        },
        {
            "cell_type": "code",
            "execution_count": null,
            "metadata": {},
            "outputs": [],
            "source": "def Printlist (type_album):\n    for element in type_album :\n        print (element)\n        \nPrintlist([\"Bryan Adams\", \"Robin Hood\", 1991])\n\n"
        },
        {
            "cell_type": "code",
            "execution_count": null,
            "metadata": {},
            "outputs": [],
            "source": "# Setting parameter with default value\ndef grade (points=95):\n if points >= 90:\n    print (\"Great job\")\n else :\n    print('Try better')\n    \ngrade(85)\ngrade()"
        },
        {
            "cell_type": "code",
            "execution_count": null,
            "metadata": {},
            "outputs": [],
            "source": "# Global variables outside the function.\nartist = \"Bryan Adams\"\ndef printer(artist):\n    global internal_var\n    internal_var= \"Whitney Houston\"\n    print(artist,\"is an artist\")\n\nprinter(artist) \nprinter(internal_var)"
        },
        {
            "cell_type": "code",
            "execution_count": null,
            "metadata": {},
            "outputs": [],
            "source": "# Import the library\n\nimport matplotlib.pyplot as plt\n%matplotlib inline \n\n# Creating a class \n# Constructor\nclass Circle (object): # Defining a class\n# Method\n    def __init__(self,radius,color): # Data attributes used to initialize object \n        self.radius=radius;\n        self.color=color;\n# Method\n    def add_radius (self,r): # Method used to add r to radius \n        self.radius=self.radius +r;\n        return (self.radius)\n# Method\n    def drawCircle (self): # Method used to display the image of a circle  \n        plt.gca().add_patch(plt.Circle((0, 0), radius=self.radius, fc=self.color))\n        plt.axis('scaled')\n        plt.show()\n        \nRedCircle= Circle(5,'red')\ndir (RedCircle) # Dir used to see the methods of the object. Most of them are default Python methods"
        },
        {
            "cell_type": "code",
            "execution_count": null,
            "metadata": {},
            "outputs": [],
            "source": "# Printing the radius of the object \nRedCircle.radius\n"
        },
        {
            "cell_type": "code",
            "execution_count": null,
            "metadata": {},
            "outputs": [],
            "source": "# Changing the radius of the object \nRedCircle.radius = 10\nRedCircle.radius"
        },
        {
            "cell_type": "code",
            "execution_count": null,
            "metadata": {},
            "outputs": [],
            "source": "RedCircle.drawCircle()\n\n"
        },
        {
            "cell_type": "code",
            "execution_count": null,
            "metadata": {},
            "outputs": [],
            "source": "RedCircle.add_radius (5)\nRedCircle.color = \"blue\"\nRedCircle.drawCircle()"
        },
        {
            "cell_type": "code",
            "execution_count": null,
            "metadata": {},
            "outputs": [],
            "source": "# Creating a little rectangle \nimport matplotlib.pyplot as plt\n%matplotlib inline \nclass Rectangle (object):\n    def __init__ (self,height,width,color):\n        self.height=height;\n        self.width= width;\n        self.color=color;\n    def drawRectangle (self): # Method used to display the image of a circle  \n        plt.gca().add_patch(plt.Rectangle((0, 0), height=self.height, width=self.width, fc=self.color))\n        plt.axis('scaled')\n        plt.show()\n    \nBlueRectangle = Rectangle (2,3, 'orange')\nBlueRectangle.drawRectangle ()"
        },
        {
            "cell_type": "code",
            "execution_count": null,
            "metadata": {},
            "outputs": [],
            "source": "Newbigrectangle = Rectangle (5,10, 'green')\nNewbigrectangle.drawRectangle ()\n"
        },
        {
            "cell_type": "code",
            "execution_count": null,
            "metadata": {},
            "outputs": [],
            "source": "# An exception is an error that occurs during the execution of code. This error causes the code to raise an exception and if not prepared to handle it will halt the execution of the code.This will allow us to continue the execution of our program even if there is an exception.\na = 1\n\ntry:\n    b = int(input(\"Please enter a number to divide a\"))\n    a = a/b\n    print(\"Success a=\",a)\nexcept:\n    print(\"There was an error\")"
        },
        {
            "cell_type": "code",
            "execution_count": null,
            "metadata": {},
            "outputs": [],
            "source": "a = 1\n\ntry:\n    b = int(input(\"Please enter a number to divide a\"))\n    a = a/b\n    print(\"Success a=\",a)\nexcept ZeroDivisionError:\n    print(\"The number you provided cant divide 1 because it is 0\")\nexcept ValueError:\n    print(\"You did not provide a number\")\nexcept:\n    print(\"Something went wrong\")"
        },
        {
            "cell_type": "code",
            "execution_count": null,
            "metadata": {},
            "outputs": [],
            "source": "# potential code before try catch using TRY EXCEPT ELSE & FINALLY\n\ntry:\n    # code to try to execute\nexcept ZeroDivisionError:\n    # code to execute if there is a ZeroDivisionError\nexcept NameError:\n    # code to execute if there is a NameError\nexcept:\n    # code to execute if ther is any exception\nelse:\n    # code to execute if there is no exception\nfinally:\n    # code to execute at the end of the try except no matter what\n    \n# code that will execute if there is no exception or a one that we are handling"
        },
        {
            "cell_type": "code",
            "execution_count": null,
            "metadata": {},
            "outputs": [],
            "source": "a = 1\n\ntry:\n    b = int(input(\"Please enter a number to divide a\"))\n    a = a/b\nexcept ZeroDivisionError:\n    print(\"The number you provided cant divide 1 because it is 0\")\nexcept ValueError:\n    print(\"You did not provide a number\")\nexcept:\n    print(\"Something went wrong\")\nelse:\n    print(\"success a=\",a)\nfinally:\n    print(\"Processing Complete\")"
        },
        {
            "cell_type": "code",
            "execution_count": null,
            "metadata": {},
            "outputs": [],
            "source": "# Reading and writing text files in Python while using the built-in open function which provides a file object with methods and attributes we need to read, save and manipulate the file\nfile = open (\"/resources/data/Example1.txt\",\"r\") # 'file' = file object/ 'open' = function/ '/resources/data/' = file path/ 'Example1.txt' = file name/ 'r' = mode reading ('w'= for writing)\n# Read the Example1.txt\nexample1=\"/resources/data/Example1.txt\"\nfile1=open (example1,'r')\n# Read the file\nfilecontent = file1.read()\nfilecontent\n# The /n means that there is a new line.\n# Print the file with '\\n' as a new line\n\nprint(filecontent)"
        },
        {
            "cell_type": "code",
            "execution_count": null,
            "metadata": {},
            "outputs": [],
            "source": "# Open file using \"with\" which closes the file automatically after executing it\nwith open (example1,'r') as file1:\n    filecontent=file1.read()\n    print (filecontent)"
        },
        {
            "cell_type": "code",
            "execution_count": null,
            "metadata": {},
            "outputs": [],
            "source": "# Verifying if the file is closed\n\nfile1.closed"
        },
        {
            "cell_type": "code",
            "execution_count": null,
            "metadata": {},
            "outputs": [],
            "source": "# Reading and printing the first four characters\n\nwith open(example1, \"r\") as file1:\n    print(file1.read(4))\n\n    "
        },
        {
            "cell_type": "code",
            "execution_count": null,
            "metadata": {},
            "outputs": [],
            "source": "# If calling 2 times the same number of caracter, another 4 caracters will be called and so on  \nwith open(example1, \"r\") as file1:\n    print(file1.read(4))\n    print(file1.read(4))\n    print(file1.read(7))\n    print(file1.read(15))"
        },
        {
            "cell_type": "code",
            "execution_count": null,
            "metadata": {},
            "outputs": [],
            "source": "# Using readline() method for reading one line of the file at a time \nwith open(example1, \"r\") as file1:\n    print(\"first line: \" + file1.readline())"
        },
        {
            "cell_type": "code",
            "execution_count": null,
            "metadata": {},
            "outputs": [],
            "source": "# Using a loop \nwith open(example1,\"r\") as file1:\n        i = 0;\n        for line in file1:\n            print(\"Iteration\", str(i), \": \", line)\n            i = i + 1;"
        },
        {
            "cell_type": "code",
            "execution_count": null,
            "metadata": {},
            "outputs": [],
            "source": "# Using readlines() method to save the text file to a list:\nwith open(example1, \"r\") as file1:\n    FileasList = file1.readlines()"
        },
        {
            "cell_type": "code",
            "execution_count": null,
            "metadata": {},
            "outputs": [],
            "source": "# Writing a text file to a list with \"write ()\" method\nwith open (example1, 'w') as writetext:\n    writetext.write('This is a new line')\n# Checking if the text is in the list while using 'r'\nwith open (example1, 'r') as checkingwritetext:\n    print(checkingwritetext.read())"
        },
        {
            "cell_type": "code",
            "execution_count": null,
            "metadata": {},
            "outputs": [],
            "source": "# Writing a sample list of text\nLines =  [\"This is line A\\n\", \"This is line B\\n\", \"This is line C\\n\"]\nLines"
        },
        {
            "cell_type": "code",
            "execution_count": null,
            "metadata": {},
            "outputs": [],
            "source": "# Copying a text from Example1.txt to Example2.txt\nwith open ('Example1.txt', \"r\") as readfile:\n    with open ('Example2.txt', 'w') as writefile:\n        for line in readfile \n        writefile.write(line)\n        "
        },
        {
            "cell_type": "code",
            "execution_count": null,
            "metadata": {},
            "outputs": [],
            "source": "# Writing a text and saving it in txt format\nwith open (\"newtxt.txt\", \"w\") as newtxt:\nL= ['This is Paris\\n', 'This is Berlin\\n', 'This is Moscow\\n']\nnewtxt.write(L)"
        },
        {
            "cell_type": "code",
            "execution_count": null,
            "metadata": {},
            "outputs": [],
            "source": "# Pandas in Python \n# Dependency needed to install file \n!pip install xlrd\n\n# Import required library\nimport pandas as pd"
        },
        {
            "cell_type": "code",
            "execution_count": null,
            "metadata": {},
            "outputs": [],
            "source": "#The variable \"csv_path\" stores the path of the .csv\n#The \"read_csv\" is a function\n#The result is saved to a \"df\", which is Pandas dataframe\n# Reading data from CSV file\ncsv_path = 'https://s3-api.us-geo.objectstorage.softlayer.net/cf-courses-data/CognitiveClass/PY0101EN/Chapter%204/Datasets/TopSellingAlbums.csv'\ndf = pd.read_csv(csv_path)"
        },
        {
            "cell_type": "code",
            "execution_count": null,
            "metadata": {},
            "outputs": [],
            "source": "#Examining the first 5 raws of a dataframe \ndf.head()"
        },
        {
            "cell_type": "code",
            "execution_count": null,
            "metadata": {},
            "outputs": [],
            "source": "# Reading data from Excel file and printing the first five rows\nimport pandas as pd\nxlsx_path = 'https://s3-api.us-geo.objectstorage.softlayer.net/cf-courses-data/CognitiveClass/PY0101EN/Chapter%204/Datasets/TopSellingAlbums.xlsx'\n\ndf = pd.read_excel(xlsx_path)\ndf.head()"
        },
        {
            "cell_type": "code",
            "execution_count": null,
            "metadata": {},
            "outputs": [],
            "source": "#Accessing column Album\nx=df [['Album']]\nx"
        },
        {
            "cell_type": "code",
            "execution_count": null,
            "metadata": {},
            "outputs": [],
            "source": "#Getting a column as a series using single brackets\ndf['Album']\n"
        },
        {
            "cell_type": "code",
            "execution_count": null,
            "metadata": {},
            "outputs": [],
            "source": "#Getting the type of df\nx= type (df[['Album']])\nx"
        },
        {
            "cell_type": "code",
            "execution_count": null,
            "metadata": {},
            "outputs": [],
            "source": "#Accessing multiple lines \nx=df[['Album','Length']]\nx"
        },
        {
            "cell_type": "code",
            "execution_count": null,
            "metadata": {},
            "outputs": [],
            "source": "# Accessing the value on the first row and the first column\ndf.iloc[0,0]"
        },
        {
            "cell_type": "code",
            "execution_count": null,
            "metadata": {},
            "outputs": [],
            "source": "# Access the column using the name\ndf.loc[1, 'Artist']"
        },
        {
            "cell_type": "code",
            "execution_count": null,
            "metadata": {},
            "outputs": [],
            "source": "# Slicing the dataframe using name\n\ndf.loc[0:2, 'Artist':'Released']"
        },
        {
            "cell_type": "code",
            "execution_count": 65,
            "metadata": {},
            "outputs": [
                {
                    "name": "stdout",
                    "output_type": "stream",
                    "text": "[1 2 3 4 5]\nthe a array is: [1 2 3 4 5]\nFirst element: 1\nint64\n"
                }
            ],
            "source": "#Creating a 1D Numpy array \n# Import the libraries\n\nimport time \nimport sys\nimport numpy as np \n\nimport matplotlib.pyplot as plt\n%matplotlib inline \n\n\na=np.array([1,2,3,4,5])\nprint (a) \nprint (\"the a array is:\", a)\nprint ('First element:', a[0])\ntype (a) # Type of the array\nprint (a.dtype) # Type of the values in the numpy array\n"
        },
        {
            "cell_type": "code",
            "execution_count": 66,
            "metadata": {},
            "outputs": [
                {
                    "data": {
                        "text/plain": "array([100,   2,   3,   4,   5])"
                    },
                    "execution_count": 66,
                    "metadata": {},
                    "output_type": "execute_result"
                }
            ],
            "source": "#Changing values in the array\na[0]=100\na"
        },
        {
            "cell_type": "code",
            "execution_count": 67,
            "metadata": {},
            "outputs": [
                {
                    "data": {
                        "text/plain": "array([100, 200, 300])"
                    },
                    "execution_count": 67,
                    "metadata": {},
                    "output_type": "execute_result"
                }
            ],
            "source": "# Slicing \na[1:3]=200,300\nb=a[0:3]\nb"
        },
        {
            "cell_type": "code",
            "execution_count": 68,
            "metadata": {},
            "outputs": [
                {
                    "data": {
                        "text/plain": "array([200,   5])"
                    },
                    "execution_count": 68,
                    "metadata": {},
                    "output_type": "execute_result"
                }
            ],
            "source": "# Using the index list for getting values \nselect=[1,4]\nd=a[select]\nd"
        },
        {
            "cell_type": "code",
            "execution_count": 69,
            "metadata": {},
            "outputs": [
                {
                    "data": {
                        "text/plain": "array([ 100, 1000,  300,    4, 1000])"
                    },
                    "execution_count": 69,
                    "metadata": {},
                    "output_type": "execute_result"
                }
            ],
            "source": "# Assigning another element to new value \na[select]=1000\na"
        },
        {
            "cell_type": "code",
            "execution_count": 70,
            "metadata": {},
            "outputs": [
                {
                    "name": "stdout",
                    "output_type": "stream",
                    "text": "(5,)\n5\n1\n480.8\n1000\n4\n"
                }
            ],
            "source": "print (a.shape)\nprint (a.size)\nprint (a.ndim)\nmean=a.mean()\nprint (mean)\nmaxi=a.max()\nprint (maxi)\nmini=a.min()\nprint (mini)"
        },
        {
            "cell_type": "code",
            "execution_count": 71,
            "metadata": {},
            "outputs": [
                {
                    "data": {
                        "text/plain": "434.55098665173927"
                    },
                    "execution_count": 71,
                    "metadata": {},
                    "output_type": "execute_result"
                }
            ],
            "source": "# Getting the standard deviation of numpy array\nstandard_deviation=a.std()\nstandard_deviation"
        },
        {
            "cell_type": "code",
            "execution_count": 72,
            "metadata": {},
            "outputs": [
                {
                    "data": {
                        "text/plain": "array([2, 6])"
                    },
                    "execution_count": 72,
                    "metadata": {},
                    "output_type": "execute_result"
                }
            ],
            "source": "#Product of two numpy arrays \na=np.array([1,2])\nb=np.array([2,3])\nz=a*b\nz"
        },
        {
            "cell_type": "code",
            "execution_count": 73,
            "metadata": {},
            "outputs": [
                {
                    "data": {
                        "text/plain": "8"
                    },
                    "execution_count": 73,
                    "metadata": {},
                    "output_type": "execute_result"
                }
            ],
            "source": "# Dot Product (first multiplying the first values from two arrays, then multiplying the second values from two arrays and finally adding two results)\nimport numpy as np \na=np.array([1,2])\nb=np.array([2,3])\nz=np.dot(a,b)\nz"
        },
        {
            "cell_type": "code",
            "execution_count": 74,
            "metadata": {},
            "outputs": [
                {
                    "data": {
                        "text/plain": "array([3, 4])"
                    },
                    "execution_count": 74,
                    "metadata": {},
                    "output_type": "execute_result"
                }
            ],
            "source": "# Adding constant 1 to an array \nb=np.array([2,3])\nb = b+1\nb"
        },
        {
            "cell_type": "code",
            "execution_count": 75,
            "metadata": {},
            "outputs": [
                {
                    "data": {
                        "image/png": "[encoded data removed]",
                        "text/plain": "<Figure size 432x288 with 1 Axes>"
                    },
                    "metadata": {
                        "needs_background": "light"
                    },
                    "output_type": "display_data"
                }
            ],
            "source": "# Plotting functions\nimport matplotlib.pyplot as plt\n%matplotlib inline  \n\ndef Plotvec1(u, z, v):\n    \n    ax = plt.axes()\n    ax.arrow(0, 0, *u, head_width=0.05, color='r', head_length=0.1)\n    plt.text(*(u + 0.1), 'u')\n    \n    ax.arrow(0, 0, *v, head_width=0.05, color='b', head_length=0.1)\n    plt.text(*(v + 0.1), 'v')\n    ax.arrow(0, 0, *z, head_width=0.05, head_length=0.1)\n    plt.text(*(z + 0.1), 'z')\n    plt.ylim(-2, 2)\n    plt.xlim(-2, 2)\n\ndef Plotvec2(a,b):\n    ax = plt.axes()\n    ax.arrow(0, 0, *a, head_width=0.05, color ='r', head_length=0.1)\n    plt.text(*(a + 0.1), 'a')\n    ax.arrow(0, 0, *b, head_width=0.05, color ='b', head_length=0.1)\n    plt.text(*(b + 0.1), 'b')\n    plt.ylim(-2, 2)\n    plt.xlim(-2, 2)\n    \n#Plotting a vector and vector addition \nu=np.array([0,2])\nz=np.array([2,0])\nv=u+z\nPlotvec1(u,z,v)\n\n"
        },
        {
            "cell_type": "code",
            "execution_count": 76,
            "metadata": {},
            "outputs": [
                {
                    "name": "stdout",
                    "output_type": "stream",
                    "text": "The dot product is 0\n"
                },
                {
                    "data": {
                        "image/png": "[encoded data removed]",
                        "text/plain": "<Figure size 432x288 with 1 Axes>"
                    },
                    "metadata": {
                        "needs_background": "light"
                    },
                    "output_type": "display_data"
                }
            ],
            "source": "#Converting the list [-1, 1] and [1, 1] to numpy arrays a and b. Then, plotting the arrays as vectors using the function Plotvec2 and finding the dot product:\na = np.array([-1, 1])\nb = np.array([1, 1])\nPlotvec2(a, b)\nprint(\"The dot product is\", np.dot(a,b))"
        },
        {
            "cell_type": "code",
            "execution_count": 77,
            "metadata": {},
            "outputs": [
                {
                    "data": {
                        "text/plain": "3.141592653589793"
                    },
                    "execution_count": 77,
                    "metadata": {},
                    "output_type": "execute_result"
                }
            ],
            "source": "# Accessing the value of pi in numpy \nnp.pi"
        },
        {
            "cell_type": "code",
            "execution_count": 78,
            "metadata": {},
            "outputs": [],
            "source": "# Create the numpy array in radians\n\nx = np.array([0, np.pi/2 , np.pi])"
        },
        {
            "cell_type": "code",
            "execution_count": 79,
            "metadata": {},
            "outputs": [
                {
                    "data": {
                        "text/plain": "array([0.0000000e+00, 1.0000000e+00, 1.2246468e-16])"
                    },
                    "execution_count": 79,
                    "metadata": {},
                    "output_type": "execute_result"
                }
            ],
            "source": "# Calculate the sin of each elements\n\ny = np.sin(x)\ny"
        },
        {
            "cell_type": "code",
            "execution_count": 80,
            "metadata": {},
            "outputs": [
                {
                    "data": {
                        "text/plain": "array([-2. , -1.5, -1. , -0.5,  0. ,  0.5,  1. ,  1.5,  2. ])"
                    },
                    "execution_count": 80,
                    "metadata": {},
                    "output_type": "execute_result"
                }
            ],
            "source": "# Linspace - a function for plotting mathematical functions\n# Making up a numpy array within [-2, 2] and 5 elements\n\nnp.linspace(-2, 2, num=9)"
        },
        {
            "cell_type": "code",
            "execution_count": 81,
            "metadata": {},
            "outputs": [],
            "source": "# Makeup a numpy array within [0, 2\u03c0] and 100 elements \n\nx = np.linspace(0, 2*np.pi, num=100)"
        },
        {
            "cell_type": "code",
            "execution_count": 82,
            "metadata": {},
            "outputs": [],
            "source": "# Calculate the sine of x list\n\ny = np.sin(x)"
        },
        {
            "cell_type": "code",
            "execution_count": 83,
            "metadata": {},
            "outputs": [
                {
                    "data": {
                        "text/plain": "[<matplotlib.lines.Line2D at 0x7f8e509be410>]"
                    },
                    "execution_count": 83,
                    "metadata": {},
                    "output_type": "execute_result"
                },
                {
                    "data": {
                        "image/png": "[encoded data removed]",
                        "text/plain": "<Figure size 432x288 with 1 Axes>"
                    },
                    "metadata": {
                        "needs_background": "light"
                    },
                    "output_type": "display_data"
                }
            ],
            "source": "# Plot the result\n\nplt.plot(x, y)"
        },
        {
            "cell_type": "code",
            "execution_count": 84,
            "metadata": {},
            "outputs": [
                {
                    "name": "stdout",
                    "output_type": "stream",
                    "text": "This is the dot product: 0\n"
                },
                {
                    "data": {
                        "text/plain": "[<matplotlib.lines.Line2D at 0x7f8e50937f50>]"
                    },
                    "execution_count": 84,
                    "metadata": {},
                    "output_type": "execute_result"
                },
                {
                    "data": {
                        "image/png": "[encoded data removed]",
                        "text/plain": "<Figure size 432x288 with 1 Axes>"
                    },
                    "metadata": {
                        "needs_background": "light"
                    },
                    "output_type": "display_data"
                }
            ],
            "source": "#Plotting the numpy arrays as vectors while using the Plotvec2 function and finding the dot product \na=np.array([1, 0])\nb=np.array([0, 1])\nPlotvec2(a,b)\nprint ('This is the dot product:', np.dot(a,b))\nplt.plot(a,b) # plotting a third vector \n"
        },
        {
            "cell_type": "code",
            "execution_count": 85,
            "metadata": {},
            "outputs": [
                {
                    "data": {
                        "text/plain": "array([[ 1,  2,  3],\n       [11, 12, 13],\n       [21, 22, 23]])"
                    },
                    "execution_count": 85,
                    "metadata": {},
                    "output_type": "execute_result"
                }
            ],
            "source": "# Creating a 2D Numpy array \n# Importing the libraries\n\nimport numpy as np \nimport matplotlib.pyplot as plt\n\na=[[1,2,3],[11,12,13],[21,22,23]] #Creating a numpy array from a list \nA=np.array(a)\nA"
        },
        {
            "cell_type": "code",
            "execution_count": 86,
            "metadata": {},
            "outputs": [
                {
                    "name": "stdout",
                    "output_type": "stream",
                    "text": "2\n(3, 3)\n9\n"
                }
            ],
            "source": "print (A.ndim)  #Numpy dimensions one main dimension and another with three nested ones\nprint (A.shape) #Corresponding to a tuple showing 3 rows and 3 columns\nprint (A.size) #Number of all elements in the array "
        },
        {
            "cell_type": "code",
            "execution_count": 87,
            "metadata": {},
            "outputs": [
                {
                    "data": {
                        "text/plain": "array([[1, 1],\n       [2, 2],\n       [3, 3]])"
                    },
                    "execution_count": 87,
                    "metadata": {},
                    "output_type": "execute_result"
                }
            ],
            "source": "# Create a matrix C\n\nC = np.array([[1,1],[2,2],[3,3]])\nC"
        },
        {
            "cell_type": "code",
            "execution_count": 88,
            "metadata": {},
            "outputs": [
                {
                    "data": {
                        "text/plain": "array([[1, 2, 3],\n       [1, 2, 3]])"
                    },
                    "execution_count": 88,
                    "metadata": {},
                    "output_type": "execute_result"
                }
            ],
            "source": "# Get the transposed of C\n\nC.T"
        },
        {
            "cell_type": "code",
            "execution_count": 89,
            "metadata": {},
            "outputs": [
                {
                    "name": "stdout",
                    "output_type": "stream",
                    "text": "Collecting nba_api\n  Downloading nba_api-1.1.9-py3-none-any.whl (242 kB)\n\u001b[K     |\u2588\u2588\u2588\u2588\u2588\u2588\u2588\u2588\u2588\u2588\u2588\u2588\u2588\u2588\u2588\u2588\u2588\u2588\u2588\u2588\u2588\u2588\u2588\u2588\u2588\u2588\u2588\u2588\u2588\u2588\u2588\u2588| 242 kB 14.5 MB/s eta 0:00:01\n\u001b[?25hRequirement already satisfied: requests in /opt/conda/envs/Python-3.7-main/lib/python3.7/site-packages (from nba_api) (2.24.0)\nRequirement already satisfied: chardet<4,>=3.0.2 in /opt/conda/envs/Python-3.7-main/lib/python3.7/site-packages (from requests->nba_api) (3.0.4)\nRequirement already satisfied: certifi>=2017.4.17 in /opt/conda/envs/Python-3.7-main/lib/python3.7/site-packages (from requests->nba_api) (2020.12.5)\nRequirement already satisfied: idna<3,>=2.5 in /opt/conda/envs/Python-3.7-main/lib/python3.7/site-packages (from requests->nba_api) (2.9)\nRequirement already satisfied: urllib3!=1.25.0,!=1.25.1,<1.26,>=1.21.1 in /opt/conda/envs/Python-3.7-main/lib/python3.7/site-packages (from requests->nba_api) (1.25.9)\nInstalling collected packages: nba-api\nSuccessfully installed nba-api-1.1.9\n"
                },
                {
                    "data": {
                        "text/html": "<div>\n<style scoped>\n    .dataframe tbody tr th:only-of-type {\n        vertical-align: middle;\n    }\n\n    .dataframe tbody tr th {\n        vertical-align: top;\n    }\n\n    .dataframe thead th {\n        text-align: right;\n    }\n</style>\n<table border=\"1\" class=\"dataframe\">\n  <thead>\n    <tr style=\"text-align: right;\">\n      <th></th>\n      <th>a</th>\n      <th>b</th>\n    </tr>\n  </thead>\n  <tbody>\n    <tr>\n      <th>0</th>\n      <td>11</td>\n      <td>12</td>\n    </tr>\n    <tr>\n      <th>1</th>\n      <td>21</td>\n      <td>22</td>\n    </tr>\n    <tr>\n      <th>2</th>\n      <td>31</td>\n      <td>32</td>\n    </tr>\n  </tbody>\n</table>\n</div>",
                        "text/plain": "    a   b\n0  11  12\n1  21  22\n2  31  32"
                    },
                    "execution_count": 89,
                    "metadata": {},
                    "output_type": "execute_result"
                }
            ],
            "source": "#API Application Programming Interface allowing interaction/communication between two pieces of software. Pandas is an API\n!pip install nba_api\n\n#Using following function \ndef one_dict(list_dict):\n    keys=list_dict[0].keys()\n    out_dict={key:[] for key in keys}\n    for dict_ in list_dict:\n        for key, value in dict_.items():\n            out_dict[key].append(value)\n    return out_dict    \n\nimport pandas as pd \nimport matplotlib.pyplot as plt \n\n# Creating a dictionary or just data \ndict_={'a':[11,21,31],'b':[12,22,32]}\n\n# When you create a Pandas object with the Dataframe constructor in API lingo, this is an \"instance\". The data in the dictionary is passed along to the pandas API. You then use the dataframe to communicate with the API.\ndf=pd.DataFrame(dict_)\ntype(df)\n\n#When you call the method head the dataframe communicates with the API displaying the first few rows of the dataframe.\ndf.head()"
        },
        {
            "cell_type": "code",
            "execution_count": 90,
            "metadata": {},
            "outputs": [
                {
                    "data": {
                        "text/plain": "a    21.0\nb    22.0\ndtype: float64"
                    },
                    "execution_count": 90,
                    "metadata": {},
                    "output_type": "execute_result"
                }
            ],
            "source": "#Calling the method mean. The API will calculate the mean and return the value.\ndf.mean()\n"
        },
        {
            "cell_type": "code",
            "execution_count": 91,
            "metadata": {},
            "outputs": [
                {
                    "ename": "SyntaxError",
                    "evalue": "invalid syntax (<ipython-input-91-4e67148e14bd>, line 3)",
                    "output_type": "error",
                    "traceback": [
                        "\u001b[0;36m  File \u001b[0;32m\"<ipython-input-91-4e67148e14bd>\"\u001b[0;36m, line \u001b[0;32m3\u001b[0m\n\u001b[0;31m    rom nba_api.stats.static import teams\u001b[0m\n\u001b[0m              ^\u001b[0m\n\u001b[0;31mSyntaxError\u001b[0m\u001b[0;31m:\u001b[0m invalid syntax\n"
                    ]
                }
            ],
            "source": "# REST API Representative State Transfer uses HTTP message which usually contains a JSON file  \n#Usinga a NBA API \nrom nba_api.stats.static import teams\nimport matplotlib.pyplot as plt\n#https://pypi.org/project/nba-api/\n#The method get_teams() returns a list of dictionaries the dictionary key id has a unique identifier for each team as a value\nnba_teams = teams.get_teams()\n# The dictionary key id has a unique identifier for each team as a value, let's look at the first three elements of the list:\nnba_teams[0:3]"
        },
        {
            "cell_type": "code",
            "execution_count": null,
            "metadata": {},
            "outputs": [],
            "source": "#Converting a dictionary to a table \ndict_nba_team=one_dict(nba_teams)\ndf_teams=pd.DataFrame(dict_nba_team)\ndf_teams.head()"
        },
        {
            "cell_type": "code",
            "execution_count": null,
            "metadata": {},
            "outputs": [],
            "source": ""
        },
        {
            "cell_type": "code",
            "execution_count": null,
            "metadata": {},
            "outputs": [],
            "source": ""
        },
        {
            "cell_type": "markdown",
            "metadata": {},
            "source": "That's the end of this part. Thanks for checking :-) "
        },
        {
            "cell_type": "code",
            "execution_count": null,
            "metadata": {},
            "outputs": [],
            "source": ""
        }
    ],
    "metadata": {
        "kernelspec": {
            "display_name": "Python 3.7",
            "language": "python",
            "name": "python3"
        },
        "language_info": {
            "codemirror_mode": {
                "name": "ipython",
                "version": 3
            },
            "file_extension": ".py",
            "mimetype": "text/x-python",
            "name": "python",
            "nbconvert_exporter": "python",
            "pygments_lexer": "ipython3",
            "version": "3.7.9"
        }
    },
    "nbformat": 4,
    "nbformat_minor": 1
}